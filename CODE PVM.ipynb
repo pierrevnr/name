{
  "nbformat": 4,
  "nbformat_minor": 0,
  "metadata": {
    "colab": {
      "provenance": [],
      "toc_visible": true
    },
    "kernelspec": {
      "name": "python3",
      "display_name": "Python 3"
    },
    "language_info": {
      "name": "python"
    }
  },
  "cells": [
    {
      "cell_type": "code",
      "execution_count": null,
      "metadata": {
        "colab": {
          "base_uri": "https://localhost:8080/",
          "height": 141
        },
        "id": "5060pzslSCYc",
        "outputId": "257cfc4e-f0a6-49be-b52b-9709845815cd"
      },
      "outputs": [
        {
          "output_type": "error",
          "ename": "SyntaxError",
          "evalue": "ignored",
          "traceback": [
            "\u001b[0;36m  File \u001b[0;32m\"<ipython-input-2-d9889c875dcf>\"\u001b[0;36m, line \u001b[0;32m33\u001b[0m\n\u001b[0;31m    2city-name = \"London\"\u001b[0m\n\u001b[0m    ^\u001b[0m\n\u001b[0;31mSyntaxError\u001b[0m\u001b[0;31m:\u001b[0m invalid decimal literal\n"
          ]
        }
      ],
      "source": [
        "#1getting_started.py\n",
        "\n",
        "# 1. Syntax\n",
        "\n",
        "# 1.1 Insert the missing indentation to make the code correct:\n",
        "# HINT: https://www.w3schools.com/python/python_syntax.asp\n",
        "\n",
        "# TODO: update the code below\n",
        "if 4 == 2 :\n",
        "  print(\"Four is equal to two!\")\n",
        "\n",
        "\n",
        "# 1.2 Variables\n",
        "# HINT: https://www.w3schools.com/python/python_variables.asp\n",
        "\n",
        "#1.2.1 Create a variable named fruit and assign the value Apple to it.\n",
        "# TODO: Write your code below\n",
        "\n",
        "\n",
        "\n",
        "# 1.2.2 Create a variable called z, assign x + y to it, and display the result.\n",
        "\n",
        "x = 10\n",
        "y= 20\n",
        "\n",
        "# TODO: Wrtie your code below\n",
        "\n",
        "y = x + Y\n",
        "\n",
        "# 1.2.3 Remove the illegal characters in the variable name:\n",
        "\n",
        "# TODO: Update the code below\n",
        "2city-name = \"London\"\n",
        "\n",
        "# 1.2.4 Insert the correct keyword to make the variable x belong to the global scope.\n",
        "# HINT: https://www.w3schools.com/python/python_variables_global.asp\n",
        "\n",
        "# TODO: Update the code below\n",
        "def myfunc():\n",
        "  _______ x\n",
        "  x = \"fantastic\"\n",
        "\n",
        "\n",
        "\n",
        "# 1.2.5 write a program that switches the values stored in variables a and b.\n",
        "\n",
        "a = 5\n",
        "b = 4\n",
        "\n",
        "# TODO: Write your code below\n",
        "\n",
        "\n",
        "\n",
        "print('a : ',a)\n",
        "print('b : ',b)\n",
        "\n",
        "\n",
        "# 1.3. Data Types\n",
        "# casting, numbers, booleans\n",
        "# HINT: https://www.w3schools.com/python/python_datatypes.asp\n",
        "\n",
        "# 1.3.1 Write a program that add the digits in a two digit number input.\n",
        "# eg. if the input is 45. The the output should be 4+5=9\n",
        "\n",
        "number= input()\n",
        "\n",
        "# TODO: Wrtie your code below\n"
      ]
    },
    {
      "cell_type": "code",
      "source": [
        "#1getting_started.py\n",
        "\n",
        "# 1. Syntax\n",
        "\n",
        "# 1.1 Insert the missing indentation to make the code correct:\n",
        "# HINT: https://www.w3schools.com/python/python_syntax.asp\n",
        "\n",
        "# TODO: update the code below\n",
        "if 4 == 2 :\n",
        "  print(\"Four is equal to two!\")"
      ],
      "metadata": {
        "id": "v4rZu9SLSY_k"
      },
      "execution_count": null,
      "outputs": []
    },
    {
      "cell_type": "code",
      "source": [
        "from typing import List\n",
        "# 1.2 Variables\n",
        "# HINT: https://www.w3schools.com/python/python_variables.asp\n",
        "\n",
        "#1.2.1 Create a variable named fruit and assign the value Apple to it.\n",
        "# TODO: Write your code below\n",
        "\n",
        "Fruit=[\"Apple\"]\n",
        "print(Fruit)"
      ],
      "metadata": {
        "colab": {
          "base_uri": "https://localhost:8080/"
        },
        "id": "NsFMEuKpSyuV",
        "outputId": "15319ec0-43cb-4781-c776-573bab7c62f7"
      },
      "execution_count": null,
      "outputs": [
        {
          "output_type": "stream",
          "name": "stdout",
          "text": [
            "['Apple']\n"
          ]
        }
      ]
    },
    {
      "cell_type": "code",
      "source": [
        " #1.2.2 Create a variable called z, assign x + y to it, and display the result.\n",
        "x = 10\n",
        "y= 20\n",
        "z=[x, y]\n",
        "\n",
        "print(z)"
      ],
      "metadata": {
        "colab": {
          "base_uri": "https://localhost:8080/"
        },
        "id": "f7hKzm4-THm-",
        "outputId": "d1b99382-e38f-4627-b079-9f49d969edc5"
      },
      "execution_count": null,
      "outputs": [
        {
          "output_type": "stream",
          "name": "stdout",
          "text": [
            "[10, 20]\n"
          ]
        }
      ]
    },
    {
      "cell_type": "code",
      "source": [
        "# 1.2.3 Remove the illegal characters in the variable name:\n",
        "\n",
        "# TODO: Update the code below\n",
        "city_name = \"London\""
      ],
      "metadata": {
        "id": "kqIsFtdrU7y5"
      },
      "execution_count": null,
      "outputs": []
    },
    {
      "cell_type": "code",
      "source": [
        "# 1.2.4 Insert the correct keyword to make the variable x belong to the global scope.\n",
        "# HINT: https://www.w3schools.com/python/python_variables_global.asp\n",
        "\n",
        "# TODO: Update the code below\n",
        "def myfunc():\n",
        "  global x\n",
        "  x = \"fantastic\"\n"
      ],
      "metadata": {
        "id": "AVM_oJR4VSbs"
      },
      "execution_count": null,
      "outputs": []
    },
    {
      "cell_type": "code",
      "source": [
        "# 1.2.5 write a program that switches the values stored in variables a and b.\n",
        "\n",
        "a = 5\n",
        "b = 4\n",
        "\n",
        "# TODO: Write your code below\n",
        "\n",
        "temp = a\n",
        "a = b\n",
        "b = temp\n",
        "\n",
        "print('a : ',a)\n",
        "print('b : ',b)\n",
        "a = 5\n",
        "b = 4\n"
      ],
      "metadata": {
        "colab": {
          "base_uri": "https://localhost:8080/"
        },
        "id": "OWpX9p4lVjKk",
        "outputId": "0ae22bdb-6c23-41f5-d147-98da39fca9b1"
      },
      "execution_count": null,
      "outputs": [
        {
          "output_type": "stream",
          "name": "stdout",
          "text": [
            "a :  4\n",
            "b :  5\n"
          ]
        }
      ]
    },
    {
      "cell_type": "code",
      "source": [
        "\n",
        "# 1.3. Data Types\n",
        "# casting, numbers, booleans\n",
        "# HINT: https://www.w3schools.com/python/python_datatypes.asp\n",
        "\n",
        "# 1.3.1 Write a program that add the digits in a two digit number input.\n",
        "# eg. if the input is 45. The the output should be 4+5=9\n",
        "\n",
        "\n",
        "# TODO: Wrtie your code below\n",
        "number = input()\n",
        "value1 = number[0]\n",
        "value2 = number[1]\n",
        "\n",
        "value1 = int(value1)\n",
        "value2 = int(value2)\n",
        "\n",
        "Result = (value1 + value2)\n",
        "print(Result)\n"
      ],
      "metadata": {
        "colab": {
          "base_uri": "https://localhost:8080/"
        },
        "id": "tE1cmtgSXPXn",
        "outputId": "a20f21ea-b2c6-4d7d-aa5d-b3ec403f56d3"
      },
      "execution_count": 6,
      "outputs": [
        {
          "output_type": "stream",
          "name": "stdout",
          "text": [
            "45\n",
            "9\n"
          ]
        }
      ]
    },
    {
      "cell_type": "code",
      "source": [
        "#2string.py\n",
        "\n",
        "# 2.1 Strings\n",
        "# HINT: https://www.w3schools.com/python/python_strings.asp\n",
        "\n",
        "txt = \"Merry Christmas\"\n",
        "\n",
        "\n",
        "# 2.1.1 print the length of the string\n",
        "# TODO: Write your code below\n",
        "\n",
        "print(len(txt))\n"
      ],
      "metadata": {
        "colab": {
          "base_uri": "https://localhost:8080/"
        },
        "id": "9YPZ6SyAZ3uo",
        "outputId": "0c92da85-a4a5-489e-8b92-812d58bb1a78"
      },
      "execution_count": null,
      "outputs": [
        {
          "output_type": "stream",
          "name": "stdout",
          "text": [
            "15\n"
          ]
        }
      ]
    },
    {
      "cell_type": "code",
      "source": [
        "# 2.1.2 Print the first character of the string txt.\n",
        "# TODO: Write your code below\n",
        "txt = \"Merry Christmas\"\n",
        "print(txt[0])"
      ],
      "metadata": {
        "colab": {
          "base_uri": "https://localhost:8080/"
        },
        "id": "RaPWpStPbLrz",
        "outputId": "1752b1e9-1b1a-426e-873c-7a5bd6aa03f2"
      },
      "execution_count": null,
      "outputs": [
        {
          "output_type": "stream",
          "name": "stdout",
          "text": [
            "M\n"
          ]
        }
      ]
    },
    {
      "cell_type": "code",
      "source": [
        "# 2.1.3 Get the characters from index 1 to index 3 (err).\n",
        "# TODO: Write your code below\n",
        "txt = \"Merry Christmas\"\n",
        "print(txt[1:4])"
      ],
      "metadata": {
        "colab": {
          "base_uri": "https://localhost:8080/"
        },
        "id": "kS9XdmlHcQXv",
        "outputId": "b0e09b65-5fc5-4060-e223-46a9992f3a82"
      },
      "execution_count": null,
      "outputs": [
        {
          "output_type": "stream",
          "name": "stdout",
          "text": [
            "err\n"
          ]
        }
      ]
    },
    {
      "cell_type": "code",
      "source": [
        "# 2.1.4 Convert the value of txt to upper case and print it.\n",
        "# TODO: Write your code below\n",
        "txt = \"Merry Christmas\"\n",
        "print(txt.upper())"
      ],
      "metadata": {
        "colab": {
          "base_uri": "https://localhost:8080/"
        },
        "id": "fLgkw2i8cQ_5",
        "outputId": "1a1119e8-f680-4cb2-dfd5-2bf6e8b7d7ee"
      },
      "execution_count": null,
      "outputs": [
        {
          "output_type": "stream",
          "name": "stdout",
          "text": [
            "MERRY CHRISTMAS\n"
          ]
        }
      ]
    },
    {
      "cell_type": "code",
      "source": [
        "# 2.1.5 Convert the value of txt to lower case and print it.\n",
        "# TODO: Write your code below\n",
        "txt = \"Merry Christmas\"\n",
        "print(txt.lower())"
      ],
      "metadata": {
        "colab": {
          "base_uri": "https://localhost:8080/"
        },
        "id": "__d8R4ZUcny9",
        "outputId": "6f6c7381-0e3d-4b4e-929b-0194cb2542e0"
      },
      "execution_count": null,
      "outputs": [
        {
          "output_type": "stream",
          "name": "stdout",
          "text": [
            "merry christmas\n"
          ]
        }
      ]
    },
    {
      "cell_type": "code",
      "source": [
        "# 2.1.6 Return the string without any whitespace at the beginning or the end.\n",
        "x = \" Hello World \"\n",
        "# TODO: Write your code below\n",
        "print(x.strip())"
      ],
      "metadata": {
        "colab": {
          "base_uri": "https://localhost:8080/"
        },
        "id": "PVz6X2mNeELK",
        "outputId": "a26327aa-5627-48a1-c96d-ebd663c37419"
      },
      "execution_count": null,
      "outputs": [
        {
          "output_type": "stream",
          "name": "stdout",
          "text": [
            "Hello World\n"
          ]
        }
      ]
    },
    {
      "cell_type": "code",
      "source": [
        "# 2.1.7 Replace the character H with a J and print the result\n",
        "y = \"Hello\"\n",
        "y = y.replace(\"H\", \"J\")\n",
        "print(y)\n",
        "# TODO: Write your code below"
      ],
      "metadata": {
        "colab": {
          "base_uri": "https://localhost:8080/"
        },
        "id": "VBqtk6dMeM1Y",
        "outputId": "5ce1b642-2b30-4c09-b102-35c06002fb03"
      },
      "execution_count": null,
      "outputs": [
        {
          "output_type": "stream",
          "name": "stdout",
          "text": [
            "Jello\n"
          ]
        }
      ]
    },
    {
      "cell_type": "code",
      "source": [
        "# 2.1.8 Insert the correct syntax to add a placeholder for the name parameter.\n",
        "# TODO: Update the code below\n",
        "name = 'John'\n",
        "txt = \"My name is {}\"\n",
        "print(txt.format(name))"
      ],
      "metadata": {
        "colab": {
          "base_uri": "https://localhost:8080/"
        },
        "id": "C-96NSozgiE6",
        "outputId": "208e52be-a920-4bf3-8502-788d0063647d"
      },
      "execution_count": null,
      "outputs": [
        {
          "output_type": "stream",
          "name": "stdout",
          "text": [
            "My name is John\n"
          ]
        }
      ]
    },
    {
      "cell_type": "code",
      "source": [
        "#3operators.py\n",
        "\n",
        "# 3.1 Operators\n",
        "\n",
        "# 3.1.1 Multiply 4 with 8, and print the result.\n",
        "# TODO: Write your code below\n",
        "result = 4 * 8\n",
        "print(result)"
      ],
      "metadata": {
        "colab": {
          "base_uri": "https://localhost:8080/"
        },
        "id": "GMKmPjy5pkFt",
        "outputId": "39ddd62d-7a38-4fc2-c3f7-999776486d77"
      },
      "execution_count": null,
      "outputs": [
        {
          "output_type": "stream",
          "name": "stdout",
          "text": [
            "32\n"
          ]
        }
      ]
    },
    {
      "cell_type": "code",
      "source": [
        "#3operators.py\n",
        "\n",
        "# 3.1 Operators\n",
        "\n",
        "# 3.1.1 Multiply 4 with 8, and print the result.\n",
        "# TODO: Write your code below\n",
        "result = 30 / 6\n",
        "print(result)"
      ],
      "metadata": {
        "colab": {
          "base_uri": "https://localhost:8080/"
        },
        "id": "c57_IhSEpkpp",
        "outputId": "edda7803-13da-4792-fc22-600639510c07"
      },
      "execution_count": null,
      "outputs": [
        {
          "output_type": "stream",
          "name": "stdout",
          "text": [
            "5.0\n"
          ]
        }
      ]
    },
    {
      "cell_type": "code",
      "source": [
        "# 4.1 PYTHON Lists\n",
        "\n",
        "fruits = [\"kiwi\", \"pineapple\", \"apple\"]\n",
        "print(fruits[1])\n",
        "\n",
        "# 4.1.1 Print the second item in the fruits list.\n",
        "# TODO: Write your code below"
      ],
      "metadata": {
        "colab": {
          "base_uri": "https://localhost:8080/"
        },
        "id": "7Hq8wezbq03u",
        "outputId": "90da8d70-8fda-4c0e-8d1f-5948d709549e"
      },
      "execution_count": null,
      "outputs": [
        {
          "output_type": "stream",
          "name": "stdout",
          "text": [
            "pineapple\n"
          ]
        }
      ]
    },
    {
      "cell_type": "code",
      "source": [
        "# 4.1.2 Change the value from \"kiwi\" to \"orange\", in the fruits list.\n",
        "# TODO: Write your code below\n",
        "fruits = [\"kiwi\", \"pineapple\", \"apple\"]\n",
        "fruits[0] = \"orange\"\n",
        "print(fruits)"
      ],
      "metadata": {
        "colab": {
          "base_uri": "https://localhost:8080/"
        },
        "id": "_c6qEJ1zroJ2",
        "outputId": "feb4249f-a148-4264-ce99-e0b89f3c1435"
      },
      "execution_count": null,
      "outputs": [
        {
          "output_type": "stream",
          "name": "stdout",
          "text": [
            "['orange', 'pineapple', 'apple']\n"
          ]
        }
      ]
    },
    {
      "cell_type": "code",
      "source": [
        "# 4.1.3 Use the insert method to add \"lemon\" as the second item in the fruits list.\n",
        "# TODO: Write your code below\n",
        "fruits = [\"kiwi\", \"pineapple\", \"apple\"]\n",
        "fruits.insert(1, \"lemon\")\n",
        "print(fruits)"
      ],
      "metadata": {
        "colab": {
          "base_uri": "https://localhost:8080/"
        },
        "id": "ZGg9cNNZsVDj",
        "outputId": "e419ee00-aef8-4ce5-cd73-0aaf02f0bf74"
      },
      "execution_count": null,
      "outputs": [
        {
          "output_type": "stream",
          "name": "stdout",
          "text": [
            "['kiwi', 'lemon', 'pineapple', 'apple']\n"
          ]
        }
      ]
    },
    {
      "cell_type": "code",
      "source": [
        "# 4.1.4 Use the remove method to remove \"pineapple\" from the fruits list.\n",
        "# TODO: Write your code below\n",
        "fruits = [\"kiwi\", \"pineapple\", \"apple\"]\n",
        "fruits.remove(\"pineapple\")\n",
        "print(fruits)"
      ],
      "metadata": {
        "colab": {
          "base_uri": "https://localhost:8080/"
        },
        "id": "WjkBPUARtKjJ",
        "outputId": "1f702df7-42f5-4586-8a6b-8fbe6b222fd3"
      },
      "execution_count": null,
      "outputs": [
        {
          "output_type": "stream",
          "name": "stdout",
          "text": [
            "['kiwi', 'apple']\n"
          ]
        }
      ]
    },
    {
      "cell_type": "code",
      "source": [
        "# 4.1.5 Use negative indexing to print the last item in the list.\n",
        "# TODO: Write your code below\n",
        "fruits = [\"kiwi\", \"pineapple\", \"apple\"]\n",
        "fruits1 = fruits[-1]\n",
        "print(fruits1)"
      ],
      "metadata": {
        "colab": {
          "base_uri": "https://localhost:8080/"
        },
        "id": "sajdPRXKtK5y",
        "outputId": "8b3cb85f-a9d9-47aa-d90e-a045e4d709a5"
      },
      "execution_count": null,
      "outputs": [
        {
          "output_type": "stream",
          "name": "stdout",
          "text": [
            "apple\n"
          ]
        }
      ]
    },
    {
      "cell_type": "code",
      "source": [
        "#4.1.6 Use a range of indexes to print the third, fourth, and fifth item in the list fruits2.\n",
        "\n",
        "fruits2 = [\"apple\", \"banana\", \"cherry\", \"orange\", \"kiwi\", \"melon\", \"mango\"]\n",
        "# TODO: Write your code below\n",
        "fruits3 = fruits2[2:5]\n",
        "print(fruits3)"
      ],
      "metadata": {
        "colab": {
          "base_uri": "https://localhost:8080/"
        },
        "id": "9tjSseTYuUwJ",
        "outputId": "3d2fb0a0-af52-4128-9fef-43b9f1161a5c"
      },
      "execution_count": null,
      "outputs": [
        {
          "output_type": "stream",
          "name": "stdout",
          "text": [
            "['cherry', 'orange', 'kiwi']\n"
          ]
        }
      ]
    },
    {
      "cell_type": "code",
      "source": [
        "# 4.1.7 Use the correct syntax to print the number of items in the list fruits\n",
        "# TODO: Write your code below\n",
        "fruits2 = [\"apple\", \"banana\", \"cherry\", \"orange\", \"kiwi\", \"melon\", \"mango\"]\n",
        "# TODO: Write your code below\n",
        "fruits3 = len(fruits2)\n",
        "print(fruits3)"
      ],
      "metadata": {
        "colab": {
          "base_uri": "https://localhost:8080/"
        },
        "id": "XZ4xWLbYz9VG",
        "outputId": "8330081a-b3df-42e3-a1bb-b51cb8a6d392"
      },
      "execution_count": null,
      "outputs": [
        {
          "output_type": "stream",
          "name": "stdout",
          "text": [
            "7\n"
          ]
        }
      ]
    },
    {
      "cell_type": "code",
      "source": [
        "# 4.1.8  Write a program that add the average of numbers in a list scores.\n",
        "# you are not allowed to use the sum() or len() functions.\n",
        "\n",
        "scores = [50, 55, 56, 70, 80, 60, 66]\n",
        "lenght = 0\n",
        "total = 0\n",
        "for x in scores:\n",
        "  total+=x\n",
        "  lenght+=1\n",
        "print(total)\n",
        "print(lenght)\n",
        "print(total/lenght)\n",
        "\n"
      ],
      "metadata": {
        "colab": {
          "base_uri": "https://localhost:8080/"
        },
        "id": "9BSU_oOo0eqD",
        "outputId": "4cb386dd-3fa7-46eb-f096-31b662e7f6d5"
      },
      "execution_count": null,
      "outputs": [
        {
          "output_type": "stream",
          "name": "stdout",
          "text": [
            "437\n",
            "7\n",
            "62.42857142857143\n"
          ]
        }
      ]
    },
    {
      "cell_type": "code",
      "source": [
        "scores = [50, 55, 56, 70, 80, 60, 66]\n",
        "\n",
        "\n",
        "highscore = scores[0]\n",
        "\n",
        "for score in scores:\n",
        "    if score > highscore:\n",
        "        highscore = score\n",
        "\n",
        "print(\"The highest score is:\", highscore)"
      ],
      "metadata": {
        "colab": {
          "base_uri": "https://localhost:8080/"
        },
        "id": "2CqvJpCa4T9r",
        "outputId": "42abf783-0e49-4999-9267-376ea81e886b"
      },
      "execution_count": null,
      "outputs": [
        {
          "output_type": "stream",
          "name": "stdout",
          "text": [
            "The highest score is: 80\n"
          ]
        }
      ]
    },
    {
      "cell_type": "code",
      "source": [
        "# 4.2. PYTHON Dictionaries\n",
        "\n",
        "car =\t{\n",
        "  \"brand\": \"Renault\",\n",
        "  \"model\": \"Clio\",\n",
        "  \"year\": 2018\n",
        "}\n",
        "\n",
        "# 4.2.1 Use the get method to print the value of the \"model\" key of the car dictionary.\n",
        "# TODO: Write your code below\n",
        "model = car.get(\"model\")\n",
        "\n",
        "print(model)"
      ],
      "metadata": {
        "colab": {
          "base_uri": "https://localhost:8080/"
        },
        "id": "ll34XGQW7KxH",
        "outputId": "b538fd13-7ebb-4ac1-a1ec-00671f6d6cd5"
      },
      "execution_count": null,
      "outputs": [
        {
          "output_type": "stream",
          "name": "stdout",
          "text": [
            "Clio\n"
          ]
        }
      ]
    },
    {
      "cell_type": "code",
      "source": [
        "# 4.2.2 Change the \"year\" value from 2018 to 2020 in the car dictionary.\n",
        "# TODO: Write your code below\n",
        "car =\t{\n",
        "  \"brand\": \"Renault\",\n",
        "  \"model\": \"Clio\",\n",
        "  \"year\": 2018\n",
        "}\n",
        "car [\"year\"] = 2020\n",
        "print(car)"
      ],
      "metadata": {
        "colab": {
          "base_uri": "https://localhost:8080/"
        },
        "id": "zeUlFukU8gT6",
        "outputId": "c5c594d9-fda4-42fa-8c43-7199abb64c8b"
      },
      "execution_count": null,
      "outputs": [
        {
          "output_type": "stream",
          "name": "stdout",
          "text": [
            "{'brand': 'Renault', 'model': 'Clio', 'year': 2020}\n"
          ]
        }
      ]
    },
    {
      "cell_type": "code",
      "source": [
        "\n",
        "# 4.2.3 TODO: Add the key/value pair \"color\" : \"blue\" to the car dictionary.\n",
        "# TODO: Write your code below\n"
      ],
      "metadata": {
        "id": "wivLRy8u9Ei9"
      },
      "execution_count": null,
      "outputs": []
    },
    {
      "cell_type": "code",
      "source": [
        "# 4.2.3 TODO: Add the key/value pair \"color\" : \"blue\" to the car dictionary.\n",
        "# TODO: Write your code below\n",
        "car =\t{\n",
        "  \"brand\": \"Renault\",\n",
        "  \"model\": \"Clio\",\n",
        "  \"year\": 2018\n",
        "}\n",
        "car [\"color\"] = \"Blue\"\n",
        "print(car)"
      ],
      "metadata": {
        "colab": {
          "base_uri": "https://localhost:8080/"
        },
        "outputId": "906991f9-d5e2-4f69-c24f-e9af952aee60",
        "id": "bUet6v2n9IZB"
      },
      "execution_count": null,
      "outputs": [
        {
          "output_type": "stream",
          "name": "stdout",
          "text": [
            "{'brand': 'Renault', 'model': 'Clio', 'year': 2018, 'color': 'Blue'}\n"
          ]
        }
      ]
    },
    {
      "cell_type": "code",
      "source": [],
      "metadata": {
        "id": "KQJphVI3HIGM"
      },
      "execution_count": null,
      "outputs": []
    },
    {
      "cell_type": "code",
      "source": [
        "# 4.2.4 Use the pop method to remove \"model\" from the car dictionary.\n",
        "# TODO: Write your code belo\n",
        "car = {\n",
        "  \"brand\": \"Renault\",\n",
        "  \"model\": \"Clio\",\n",
        "  \"year\": 2018\n",
        "}\n",
        "\n",
        "\n",
        "remove = car.pop(\"model\")\n",
        "\n",
        "print(car)\n",
        "print(remove)"
      ],
      "metadata": {
        "colab": {
          "base_uri": "https://localhost:8080/"
        },
        "id": "X8Ibaiah-CtB",
        "outputId": "44989296-5088-4efc-ae59-99a3309cd43a"
      },
      "execution_count": null,
      "outputs": [
        {
          "output_type": "stream",
          "name": "stdout",
          "text": [
            "{'brand': 'Renault', 'year': 2018}\n",
            "Removed model: Clio\n"
          ]
        }
      ]
    },
    {
      "cell_type": "code",
      "source": [
        "# 4.2.5 Use the clear method to empty the car dictionary.\n",
        "# TODO: Write your code below\n",
        "car = {\n",
        "  \"brand\": \"Renault\",\n",
        "  \"model\": \"Clio\",\n",
        "  \"year\": 2018\n",
        "}\n",
        "\n",
        "car.clear()\n",
        "\n",
        "# Afficher le dictionnaire mis à jou\n",
        "print(\"Removed model:\", car)"
      ],
      "metadata": {
        "colab": {
          "base_uri": "https://localhost:8080/"
        },
        "id": "Ww_n-PlSHJLm",
        "outputId": "e9e3630a-8d47-4107-ad8b-07ac2226d6fe"
      },
      "execution_count": null,
      "outputs": [
        {
          "output_type": "stream",
          "name": "stdout",
          "text": [
            "Removed model: {}\n"
          ]
        }
      ]
    },
    {
      "cell_type": "code",
      "source": [
        "# 5conditionals.py\n",
        "\n",
        "# 5.1 If ... else\n",
        "\n",
        "a = 20\n",
        "b = 40\n",
        "\n",
        "c=10\n",
        "d=40\n",
        "\n",
        "# 5.1.1 Print \"Yes\" if a is equal to b, otherwise print \"No\".\n",
        "# TODO: Write your code below\n",
        "\n",
        "if a == b:\n",
        "  print(\"Yes\")\n",
        "else:\n",
        "  print(\"No\")"
      ],
      "metadata": {
        "colab": {
          "base_uri": "https://localhost:8080/"
        },
        "id": "IT__pYpvHxXL",
        "outputId": "d23e0c73-065b-4d3d-8a3f-f3eec366f6fa"
      },
      "execution_count": null,
      "outputs": [
        {
          "output_type": "stream",
          "name": "stdout",
          "text": [
            "No\n"
          ]
        }
      ]
    },
    {
      "cell_type": "code",
      "source": [
        "# 5.1.2 Print \"1\" if a is equal to b, print \"2\" if a is greater than b, otherwise print \"3\".\n",
        "# TODO: Write your code below\n",
        "\n",
        "a = 20\n",
        "b = 40\n",
        "\n",
        "c=10\n",
        "d=40\n",
        "if a == b:\n",
        "  print(\"1\")\n",
        "elif a > b:\n",
        "  print(\"2\")\n",
        "else:\n",
        "  print(\"3\")"
      ],
      "metadata": {
        "colab": {
          "base_uri": "https://localhost:8080/"
        },
        "id": "ibpa9B32JbqX",
        "outputId": "ada71168-d447-41db-9c88-b19785a19fcc"
      },
      "execution_count": null,
      "outputs": [
        {
          "output_type": "stream",
          "name": "stdout",
          "text": [
            "3\n"
          ]
        }
      ]
    },
    {
      "cell_type": "code",
      "source": [
        "# 5.1.3 Print \"Hello\" if a is equal to b, and c is equal to d.\n",
        "# TODO: Write your code below\n",
        "a = 20\n",
        "b = 40\n",
        "\n",
        "c=10\n",
        "d=40\n",
        "if a == b and c == d :\n",
        "  print(\"Hello\")\n",
        "else:\n",
        "  print(\"Not Hello\")"
      ],
      "metadata": {
        "colab": {
          "base_uri": "https://localhost:8080/"
        },
        "id": "YIo7NZ9aKzp5",
        "outputId": "30d3585c-0274-4fb5-fae8-a0364d275da6"
      },
      "execution_count": null,
      "outputs": [
        {
          "output_type": "stream",
          "name": "stdout",
          "text": [
            "Hello\n"
          ]
        }
      ]
    },
    {
      "cell_type": "markdown",
      "source": [],
      "metadata": {
        "id": "EA_kZaxDLauT"
      }
    },
    {
      "cell_type": "code",
      "source": [
        "# 5.1.4 Print \"Hello\" if a is equal to b, or if c is equal to d.\n",
        "# TODO: Write your code below\n",
        "a = 20\n",
        "b = 40\n",
        "\n",
        "c=10\n",
        "d=40\n",
        "if a == b or c == d :\n",
        "  print(\"Hello\")\n",
        "else:\n",
        "  print(\"Not Hello\")"
      ],
      "metadata": {
        "colab": {
          "base_uri": "https://localhost:8080/"
        },
        "id": "qsp-OtXXLctx",
        "outputId": "337f01aa-b4dc-4c5f-8cab-b7d8b133735d"
      },
      "execution_count": null,
      "outputs": [
        {
          "output_type": "stream",
          "name": "stdout",
          "text": [
            "Not Hello\n"
          ]
        }
      ]
    },
    {
      "cell_type": "code",
      "source": [
        "# 5.2 Write a program that checks whether an input number is odd or even. Print whether the input number is odd or even\n",
        "# HINT:\n",
        "# even numbers can be divided by 2 with no remainder. when odd numbers are divided by 2 there is a remainder.\n",
        "# eg. 42 is even because 42/2 = 21 and has no remainder\n",
        "# eg. example, 33 is odd because 33/3 = 16.5 is not a whole number.\n",
        "# we can use the module operator (%) in python to get the remainder after a division.\n",
        "# eg. 5%2 = 1 since 5 divided by 2 has a remainder 1. So 5 is odd\n",
        "# eg. 6%2 = 0 since 6 divided by 2 has a remainder 0. So 6 is even.\n",
        "\n",
        "#number to check\n",
        "number = int(input('Enter a number'))\n",
        "\n",
        "# TODO: write your code below\n",
        "\n",
        "if number % 2 == 0:\n",
        "    print(f\"{number} is even.\")\n",
        "else:\n",
        "    print(f\"{number} is odd.\")\n"
      ],
      "metadata": {
        "colab": {
          "base_uri": "https://localhost:8080/"
        },
        "id": "yS1EO_t3Lkbv",
        "outputId": "1828b84d-97c3-4ccf-9a7d-318e381feb78"
      },
      "execution_count": null,
      "outputs": [
        {
          "output_type": "stream",
          "name": "stdout",
          "text": [
            "Enter a number13\n",
            "13 is odd.\n"
          ]
        }
      ]
    },
    {
      "cell_type": "code",
      "source": [
        "fruits = [\"kiwi\", \"banana\", \"cherry\"]\n",
        "\n",
        "# 6.1.1 Use a for loop to loop through the items in the fruits list and print each item.\n",
        "# TODO: Write your code below\n",
        "for fruits in fruits:\n",
        "  print(fruits)"
      ],
      "metadata": {
        "colab": {
          "base_uri": "https://localhost:8080/"
        },
        "id": "utCPau7mMfQg",
        "outputId": "e8a93cff-3827-4ab6-c703-245b3ecfe494"
      },
      "execution_count": null,
      "outputs": [
        {
          "output_type": "stream",
          "name": "stdout",
          "text": [
            "kiwi\n",
            "banana\n",
            "cherry\n"
          ]
        }
      ]
    },
    {
      "cell_type": "code",
      "source": [
        "# 6.1.2 In the for loop to loop through the items in the fruits list,  when the item value is \"banana\", jump directly to the next item.\n",
        "# TODO: Write your code below\n",
        "fruits = [\"kiwi\", \"banana\", \"cherry\"]\n",
        "for fruits in fruits:\n",
        "  if fruits == \"banana\":\n",
        "    continue\n",
        "  print(fruits)\n"
      ],
      "metadata": {
        "colab": {
          "base_uri": "https://localhost:8080/"
        },
        "id": "akIADfPzTxxC",
        "outputId": "fb0f3155-81de-4601-f737-840fdd0dd70b"
      },
      "execution_count": null,
      "outputs": [
        {
          "output_type": "stream",
          "name": "stdout",
          "text": [
            "kiwi\n",
            "cherry\n"
          ]
        }
      ]
    },
    {
      "cell_type": "code",
      "source": [
        "# 6.1.3 In the for loop to loop through the items in the fruits list, exit the loop when the item is \"banana\".\n",
        "# TODO: Write your code below\n",
        "fruits = [\"kiwi\", \"banana\", \"cherry\"]\n",
        "for fruits in fruits:\n",
        "  if fruits == \"banana\":\n",
        "    break\n",
        "  print(fruits)"
      ],
      "metadata": {
        "colab": {
          "base_uri": "https://localhost:8080/"
        },
        "id": "TzDL2iS-UK5L",
        "outputId": "e2064790-5ce9-4cbc-a0dd-a8e27c4444c7"
      },
      "execution_count": null,
      "outputs": [
        {
          "output_type": "stream",
          "name": "stdout",
          "text": [
            "kiwi\n"
          ]
        }
      ]
    },
    {
      "cell_type": "code",
      "source": [
        "# 6.1.4 Using the Python range() function, create a sequence of numbers from 0 to 5, and print each item in the sequence in a new line:\n",
        "# HINT: https://www.w3schools.com/python/ref_func_range.asp\n",
        "# TODO: Write your code below\n",
        "\n",
        "\n",
        "\n",
        "for num in range(6):\n",
        "    print(num)\n"
      ],
      "metadata": {
        "colab": {
          "base_uri": "https://localhost:8080/"
        },
        "id": "jyfX7A-0UfJi",
        "outputId": "16f51f4b-010f-4df2-9624-00a23a9380bc"
      },
      "execution_count": null,
      "outputs": [
        {
          "output_type": "stream",
          "name": "stdout",
          "text": [
            "0\n",
            "1\n",
            "2\n",
            "3\n",
            "4\n",
            "5\n"
          ]
        }
      ]
    },
    {
      "cell_type": "code",
      "source": [
        "# 7functions.py\n",
        "\n",
        "# 7.1 Functions\n",
        "\n",
        "# 7.1.1 Create a function named function1 that prints this string \"Hello World\"\n",
        "# TODO: Write your code below\n",
        "\n",
        "def function1():\n",
        "  print(\"hello world\")\n",
        "function1()"
      ],
      "metadata": {
        "colab": {
          "base_uri": "https://localhost:8080/"
        },
        "id": "yGwUtNj7U3l0",
        "outputId": "1234b189-2da6-49a4-f48c-ad8020b5e2e3"
      },
      "execution_count": null,
      "outputs": [
        {
          "output_type": "stream",
          "name": "stdout",
          "text": [
            "hello world\n"
          ]
        }
      ]
    },
    {
      "cell_type": "code",
      "source": [
        "\n",
        "# 7.1.3 Create a function named function2 that takes in one integer parameter number1. The function adds 5 to the input number1, and prints the result\n",
        "# TODO: Write your code below\n",
        "\n",
        "def function2():\n",
        "  number = int(input())\n",
        "  number1 = number + 5\n",
        "  print(number1)\n",
        "function2()\n",
        "\n",
        "\n"
      ],
      "metadata": {
        "colab": {
          "base_uri": "https://localhost:8080/"
        },
        "id": "CJDof20iVKEd",
        "outputId": "e6f028a7-9252-4741-b7a7-7a13338bfe9e"
      },
      "execution_count": null,
      "outputs": [
        {
          "output_type": "stream",
          "name": "stdout",
          "text": [
            "1\n",
            "6\n"
          ]
        }
      ]
    },
    {
      "cell_type": "code",
      "source": [],
      "metadata": {
        "id": "9GtWQSciWIqh"
      },
      "execution_count": null,
      "outputs": []
    },
    {
      "cell_type": "code",
      "source": [
        "# 7.1.4 Create a function named compare_numbers() with two arguments. If the first argument is greater than the second, print \"first number is greater\".\n",
        "# If the second number is greater than the first, print \"first number is smaller\". Is the numbers are equal, print \"equal numbers\"\n",
        "# TODO: Write your code below\n",
        "\n",
        "def compare_numbers():\n",
        "  number1 = int(input())\n",
        "  number2 = int(input())\n",
        "  if number1 > number2:\n",
        "    print(\"1st number is greater\")\n",
        "  elif number1 < number2:\n",
        "    print(\"2nd number is greater\")\n",
        "  else:\n",
        "    print(\"number are equals\")\n",
        "compare_numbers()"
      ],
      "metadata": {
        "colab": {
          "base_uri": "https://localhost:8080/"
        },
        "id": "ud6kOKZNWKSU",
        "outputId": "d2e8fb6a-a3c7-410c-d9e2-68b10d3366f0"
      },
      "execution_count": null,
      "outputs": [
        {
          "output_type": "stream",
          "name": "stdout",
          "text": [
            "2\n",
            "3\n",
            "2nd number is greater\n"
          ]
        }
      ]
    },
    {
      "cell_type": "code",
      "source": [
        "\n",
        "# 7.2 Create a lambda function that takes one parameter (a) and returns it.\n",
        "# TODO: Write your code below\n",
        "x = lambda a : a\n",
        "emn = x(10)\n",
        "print(emn)"
      ],
      "metadata": {
        "colab": {
          "base_uri": "https://localhost:8080/"
        },
        "id": "vC2x5W_vXbHf",
        "outputId": "53726027-035f-4ee2-ab33-1292df102295"
      },
      "execution_count": null,
      "outputs": [
        {
          "output_type": "stream",
          "name": "stdout",
          "text": [
            "10\n"
          ]
        }
      ]
    },
    {
      "cell_type": "code",
      "source": [
        "### 7.3 Python built-in functions : https://www.w3schools.com/python/python_ref_functions.asp\n",
        "\n",
        "nums = [11,33,14,2,58,65,34]\n",
        "\n",
        "# 7.3.1 Using Python's built in sum() function, print the sum of the numbers in the list nums\n",
        "# TODO: Write your code below\n",
        "\n",
        "sum(nums)\n"
      ],
      "metadata": {
        "colab": {
          "base_uri": "https://localhost:8080/"
        },
        "id": "-v3eVIdNeZSj",
        "outputId": "3705d688-a9f6-41c0-aad9-b8ca0d38e2ca"
      },
      "execution_count": null,
      "outputs": [
        {
          "output_type": "execute_result",
          "data": {
            "text/plain": [
              "217"
            ]
          },
          "metadata": {},
          "execution_count": 8
        }
      ]
    },
    {
      "cell_type": "code",
      "source": [
        "\n",
        "# 7.3.2 Using Python's built in min() function, print the minimum of the numbers in the list nums\n",
        "# TODO: Write your code below\n",
        "nums = [11,33,14,2,58,65,34]\n",
        "min(nums)"
      ],
      "metadata": {
        "colab": {
          "base_uri": "https://localhost:8080/"
        },
        "id": "xFVRivIUe8Dr",
        "outputId": "5b941563-5ed1-4c64-e59a-e98a44bb646e"
      },
      "execution_count": null,
      "outputs": [
        {
          "output_type": "execute_result",
          "data": {
            "text/plain": [
              "2"
            ]
          },
          "metadata": {},
          "execution_count": 9
        }
      ]
    },
    {
      "cell_type": "code",
      "source": [
        "# 7.3.3 Using Python's built in abs() function, print the absolute value of -6.\n",
        "# TODO: Write your code below\n",
        "x = -6\n",
        "abs(x)\n"
      ],
      "metadata": {
        "colab": {
          "base_uri": "https://localhost:8080/"
        },
        "id": "bSTJbKSqfC9G",
        "outputId": "53e5a267-a581-4ba6-f27f-704c3e666be2"
      },
      "execution_count": null,
      "outputs": [
        {
          "output_type": "execute_result",
          "data": {
            "text/plain": [
              "6"
            ]
          },
          "metadata": {},
          "execution_count": 11
        }
      ]
    },
    {
      "cell_type": "code",
      "source": [
        "# 7.3.4 Using Python's built in round() function, round the number 4.67888 to two decomal places.\n",
        "# TODO: Write your code below\n",
        "\n",
        "x = 4.67888\n",
        "round(x)\n"
      ],
      "metadata": {
        "colab": {
          "base_uri": "https://localhost:8080/"
        },
        "id": "Vp_1nr-KfOzW",
        "outputId": "44db5088-9633-4c90-9ca2-3c4bfa0fbfd3"
      },
      "execution_count": null,
      "outputs": [
        {
          "output_type": "execute_result",
          "data": {
            "text/plain": [
              "5"
            ]
          },
          "metadata": {},
          "execution_count": 12
        }
      ]
    },
    {
      "cell_type": "code",
      "source": [
        "# 7.4 Python Modules\n",
        "# HINT: https://www.w3schools.com/python/python_modules.asp\n",
        "# HINT: https://realpython.com/python-modules-packages/\n",
        "# HINT: https://docs.python.org/3/tutorial/modules.html\n",
        "\n",
        "\n",
        "# 7.4.1 Create a python module mod.\n",
        "# In mod.py, create a function psum(number1, number2) that takes two arguments and prints the sum of them. Assume the input arguments to be numbers.\n",
        "# In mod.py, create a function pmultiply(number1, number2) that takes two arguments and prints the product of them. Assume the input arguments to be numbers.\n",
        "\n",
        "def psum(number1, number2):\n",
        "  print(number1+number2)\n",
        "def pmulti(number1, number2):\n",
        "  print(number1*number2)\n",
        "\n"
      ],
      "metadata": {
        "id": "GRTb2MidfVkk"
      },
      "execution_count": null,
      "outputs": []
    },
    {
      "cell_type": "code",
      "source": [
        "\n",
        "# 7.4.2 Create python file main.py and import the module mod.\n",
        "# In main.py run the psum() and pmultiply() functions from the module mod using any two numbers.\n",
        "def psum(number1, number2):\n",
        "  print(number1+number2)\n",
        "def pmulti(number1, number2):\n",
        "  print(number1*number2)\n",
        "\n",
        "import mod\n",
        "mod.psum(10, 40)\n",
        "\n",
        "mod.pmulti(10, 40)"
      ],
      "metadata": {
        "colab": {
          "base_uri": "https://localhost:8080/",
          "height": 384
        },
        "id": "wgO8527pguhy",
        "outputId": "5c465945-8df3-409d-8d8c-fc47fbbfa830"
      },
      "execution_count": null,
      "outputs": [
        {
          "output_type": "error",
          "ename": "ModuleNotFoundError",
          "evalue": "ignored",
          "traceback": [
            "\u001b[0;31m---------------------------------------------------------------------------\u001b[0m",
            "\u001b[0;31mModuleNotFoundError\u001b[0m                       Traceback (most recent call last)",
            "\u001b[0;32m<ipython-input-19-061815c6dda2>\u001b[0m in \u001b[0;36m<cell line: 8>\u001b[0;34m()\u001b[0m\n\u001b[1;32m      6\u001b[0m   \u001b[0mprint\u001b[0m\u001b[0;34m(\u001b[0m\u001b[0mnumber1\u001b[0m\u001b[0;34m*\u001b[0m\u001b[0mnumber2\u001b[0m\u001b[0;34m)\u001b[0m\u001b[0;34m\u001b[0m\u001b[0;34m\u001b[0m\u001b[0m\n\u001b[1;32m      7\u001b[0m \u001b[0;34m\u001b[0m\u001b[0m\n\u001b[0;32m----> 8\u001b[0;31m \u001b[0;32mimport\u001b[0m \u001b[0mmod\u001b[0m\u001b[0;34m\u001b[0m\u001b[0;34m\u001b[0m\u001b[0m\n\u001b[0m\u001b[1;32m      9\u001b[0m \u001b[0mmod\u001b[0m\u001b[0;34m.\u001b[0m\u001b[0mpsum\u001b[0m\u001b[0;34m(\u001b[0m\u001b[0;36m10\u001b[0m\u001b[0;34m,\u001b[0m \u001b[0;36m40\u001b[0m\u001b[0;34m)\u001b[0m\u001b[0;34m\u001b[0m\u001b[0;34m\u001b[0m\u001b[0m\n\u001b[1;32m     10\u001b[0m \u001b[0;34m\u001b[0m\u001b[0m\n",
            "\u001b[0;31mModuleNotFoundError\u001b[0m: No module named 'mod'",
            "",
            "\u001b[0;31m---------------------------------------------------------------------------\u001b[0;32m\nNOTE: If your import is failing due to a missing package, you can\nmanually install dependencies using either !pip or !apt.\n\nTo view examples of installing some common dependencies, click the\n\"Open Examples\" button below.\n\u001b[0;31m---------------------------------------------------------------------------\u001b[0m\n"
          ],
          "errorDetails": {
            "actions": [
              {
                "action": "open_url",
                "actionText": "Open Examples",
                "url": "/notebooks/snippets/importing_libraries.ipynb"
              }
            ]
          }
        }
      ]
    }
  ]
}